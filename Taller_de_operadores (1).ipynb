{
  "nbformat": 4,
  "nbformat_minor": 0,
  "metadata": {
    "colab": {
      "provenance": []
    },
    "kernelspec": {
      "name": "python3",
      "display_name": "Python 3"
    },
    "language_info": {
      "name": "python"
    }
  },
  "cells": [
    {
      "cell_type": "code",
      "source": [
        "import cmath  # Para manejar raíces complejas si es necesario"
      ],
      "metadata": {
        "id": "6DTscrcTChCj"
      },
      "execution_count": 8,
      "outputs": []
    },
    {
      "cell_type": "code",
      "execution_count": 9,
      "metadata": {
        "colab": {
          "base_uri": "https://localhost:8080/"
        },
        "id": "TGwir-Q2-RpI",
        "outputId": "c48ed576-d598-4563-8ec7-2f8926d19d09"
      },
      "outputs": [
        {
          "output_type": "stream",
          "name": "stdout",
          "text": [
            "El área del triángulo es: 25.0\n"
          ]
        }
      ],
      "source": [
        "# =============================\n",
        "# Ejercicio 1: Área de un triángulo\n",
        "# =============================\n",
        "area = lambda base, altura: (base * altura) / 2\n",
        "print(\"El área del triángulo es:\", area(5, 10))"
      ]
    },
    {
      "cell_type": "code",
      "source": [
        "# =============================\n",
        "# Ejercicio 2: Conversión de temperatura\n",
        "# =============================\n",
        "celsius_a_fahrenheit = lambda c: (c * 9/5) + 32\n",
        "print(\"36°C en Fahrenheit es:\", celsius_a_fahrenheit(36))"
      ],
      "metadata": {
        "colab": {
          "base_uri": "https://localhost:8080/"
        },
        "id": "hjCueg9tBRjI",
        "outputId": "4a8f7cc6-95cb-4211-c966-4d4490f89b09"
      },
      "execution_count": 10,
      "outputs": [
        {
          "output_type": "stream",
          "name": "stdout",
          "text": [
            "36°C en Fahrenheit es: 96.8\n"
          ]
        }
      ]
    },
    {
      "cell_type": "code",
      "source": [
        "# =============================\n",
        "# Ejercicio 3: Promedio de tres números\n",
        "# =============================\n",
        "promedio = lambda x, y, z: (x + y + z) / 3\n",
        "print(\"El promedio de (5, 5, 5) es:\", promedio(5, 5, 5))"
      ],
      "metadata": {
        "colab": {
          "base_uri": "https://localhost:8080/"
        },
        "id": "assy8QzkBU0k",
        "outputId": "ea96e31f-6715-4a96-bee2-6b9db2c55e78"
      },
      "execution_count": 11,
      "outputs": [
        {
          "output_type": "stream",
          "name": "stdout",
          "text": [
            "El promedio de (5, 5, 5) es: 5.0\n"
          ]
        }
      ]
    },
    {
      "cell_type": "code",
      "source": [
        "# =============================\n",
        "# Ejercicio 4: Perímetro y área de un círculo\n",
        "# =============================\n",
        "import math\n",
        "circulo = lambda radio: (2 * math.pi * radio, math.pi * radio**2)\n",
        "print(\"Para un radio de 2, perímetro y área:\", circulo(2))"
      ],
      "metadata": {
        "colab": {
          "base_uri": "https://localhost:8080/"
        },
        "id": "C3k2XRRtBY7S",
        "outputId": "68567519-2fbc-46a5-f878-84b17060bf05"
      },
      "execution_count": 12,
      "outputs": [
        {
          "output_type": "stream",
          "name": "stdout",
          "text": [
            "Para un radio de 2, perímetro y área: (12.566370614359172, 12.566370614359172)\n"
          ]
        }
      ]
    },
    {
      "cell_type": "code",
      "source": [
        "# =============================\n",
        "# Ejercicio 5: Discriminante de una ecuación cuadrática\n",
        "# =============================\n",
        "\n",
        "# Función lambda para calcular el discriminante\n",
        "discriminante = lambda a, b, c: b**2 - 4*a*c\n",
        "\n",
        "# Funciones lambda para calcular las raíces\n",
        "x1 = lambda a, b, c: (-b + cmath.sqrt(discriminante(a, b, c))) / (2 * a)\n",
        "x2 = lambda a, b, c: (-b - cmath.sqrt(discriminante(a, b, c))) / (2 * a)\n",
        "\n",
        "# Coeficientes de la ecuación cuadrática\n",
        "a, b, c = -6, 6, 7\n",
        "D = discriminante(a, b, c)\n",
        "\n",
        "# Verificación y cálculo de raíces\n",
        "if D < 0:\n",
        "    print(\"Las raíces son complejas:\")\n",
        "else:\n",
        "    print(\"Las raíces son reales:\")\n",
        "\n",
        "# Imprimir las raíces\n",
        "print(f\"x1 = {x1(a, b, c)}\")\n",
        "print(f\"x2 = {x2(a, b, c)}\")"
      ],
      "metadata": {
        "colab": {
          "base_uri": "https://localhost:8080/"
        },
        "id": "ILWnvDTSBtAC",
        "outputId": "4d0610c1-2089-45cc-85c9-51723cf80cff"
      },
      "execution_count": 13,
      "outputs": [
        {
          "output_type": "stream",
          "name": "stdout",
          "text": [
            "Las raíces son reales:\n",
            "x1 = (-0.6902380714238084-0j)\n",
            "x2 = (1.6902380714238083-0j)\n"
          ]
        }
      ]
    },
    {
      "cell_type": "code",
      "source": [
        "# =============================\n",
        "# Ejercicio 6: Número par o impar\n",
        "# =============================\n",
        "par_impar = lambda n: \"Par\" if n % 2 == 0 else \"Impar\"\n",
        "print(\"El número 7 es:\", par_impar(7))"
      ],
      "metadata": {
        "colab": {
          "base_uri": "https://localhost:8080/"
        },
        "id": "j9NyYL1uB-GL",
        "outputId": "c91cf39f-cf71-4676-cb3f-2499dd8eb32b"
      },
      "execution_count": 14,
      "outputs": [
        {
          "output_type": "stream",
          "name": "stdout",
          "text": [
            "El número 7 es: Impar\n"
          ]
        }
      ]
    },
    {
      "cell_type": "code",
      "source": [
        "# =============================\n",
        "# Ejercicio 7: Determinar si un año es bisiesto\n",
        "# =============================\n",
        "\n",
        "bisiesto = lambda año: (año % 4 == 0 and año % 100 != 0) or (año % 400 == 0)\n",
        "\n",
        "# Ejemplo de uso\n",
        "año = 2024\n",
        "print(f\"¿El año {año} es bisiesto? {'Sí' if bisiesto(año) else 'No'}\")"
      ],
      "metadata": {
        "colab": {
          "base_uri": "https://localhost:8080/"
        },
        "id": "dq8M4iyRC0rU",
        "outputId": "d74f30b6-0f9d-46ce-bff6-646cf8705a23"
      },
      "execution_count": 15,
      "outputs": [
        {
          "output_type": "stream",
          "name": "stdout",
          "text": [
            "¿El año 2024 es bisiesto? Sí\n"
          ]
        }
      ]
    },
    {
      "cell_type": "code",
      "source": [
        "# =============================\n",
        "# Ejercicio 8: Determinar si una persona pertenece a la tercera edad\n",
        "# =============================\n",
        "\n",
        "tercera_edad = lambda edad: edad >= 70\n",
        "\n",
        "# Solicitar datos al usuario\n",
        "nombre = input(\"Ingrese su nombre: \")\n",
        "edad = int(input(\"Ingrese su edad: \"))\n",
        "\n",
        "# Verificación e impresión del resultado\n",
        "print(f\"\\nHola {nombre}, \", end=\"\")\n",
        "print(\"tienes prioridad en la fila.\" if tercera_edad(edad) else \"no tienes prioridad en la fila.\")"
      ],
      "metadata": {
        "colab": {
          "base_uri": "https://localhost:8080/"
        },
        "id": "ljj7HfD3C_n2",
        "outputId": "10ca9363-284d-466a-b33f-65405f16bb83"
      },
      "execution_count": 16,
      "outputs": [
        {
          "output_type": "stream",
          "name": "stdout",
          "text": [
            "Ingrese su nombre: Alexis\n",
            "Ingrese su edad: 20\n",
            "\n",
            "Hola Alexis, no tienes prioridad en la fila.\n"
          ]
        }
      ]
    },
    {
      "cell_type": "code",
      "source": [
        "# =============================\n",
        "# Ejercicio 9: Mayor de tres números\n",
        "# =============================\n",
        "\n",
        "mayor = lambda a, b, c: a if (a > b and a > c) else (b if b > c else c)\n",
        "\n",
        "# Solicitar tres números al usuario\n",
        "num1 = float(input(\"Ingrese el primer número: \"))\n",
        "num2 = float(input(\"Ingrese el segundo número: \"))\n",
        "num3 = float(input(\"Ingrese el tercer número: \"))\n",
        "\n",
        "# Imprimir el resultado\n",
        "print(f\"\\nEl mayor entre {num1}, {num2} y {num3} es: {mayor(num1, num2, num3)}\")"
      ],
      "metadata": {
        "colab": {
          "base_uri": "https://localhost:8080/"
        },
        "id": "_yByA5BqDVco",
        "outputId": "05fbb0d9-d9ad-4327-e45f-08fbc4957641"
      },
      "execution_count": 17,
      "outputs": [
        {
          "output_type": "stream",
          "name": "stdout",
          "text": [
            "Ingrese el primer número: 16\n",
            "Ingrese el segundo número: 8\n",
            "Ingrese el tercer número: 9\n",
            "\n",
            "El mayor entre 16.0, 8.0 y 9.0 es: 16.0\n"
          ]
        }
      ]
    },
    {
      "cell_type": "code",
      "source": [
        "# =============================\n",
        "# Ejercicio 10: Clasificación de un triángulo según sus lados\n",
        "# =============================\n",
        "\n",
        "triangulo = lambda a, b, c: (\n",
        "    \"Equilátero\" if a == b == c else\n",
        "    \"Isósceles\" if a == b or b == c or a == c else\n",
        "    \"Escaleno\"\n",
        ")\n",
        "\n",
        "# Solicitar los lados del triángulo al usuario\n",
        "lado1 = float(input(\"Ingrese la longitud del primer lado: \"))\n",
        "lado2 = float(input(\"Ingrese la longitud del segundo lado: \"))\n",
        "lado3 = float(input(\"Ingrese la longitud del tercer lado: \"))\n",
        "\n",
        "# Imprimir el resultado\n",
        "print(f\"\\nEl triángulo es {triangulo(lado1, lado2, lado3)}\")"
      ],
      "metadata": {
        "colab": {
          "base_uri": "https://localhost:8080/"
        },
        "id": "_rZG7GcKCssL",
        "outputId": "bbacdeb4-1b36-459a-9174-3d84b91cf621"
      },
      "execution_count": 18,
      "outputs": [
        {
          "output_type": "stream",
          "name": "stdout",
          "text": [
            "Ingrese la longitud del primer lado: 22\n",
            "Ingrese la longitud del segundo lado: 15\n",
            "Ingrese la longitud del tercer lado: 66\n",
            "\n",
            "El triángulo es Escaleno\n"
          ]
        }
      ]
    },
    {
      "cell_type": "code",
      "source": [
        "# =============================\n",
        "# Ejercicio 11: Cálculo del IMC y categoría\n",
        "# =============================\n",
        "\n",
        "# Función lambda para calcular el IMC\n",
        "imc = lambda peso, altura: peso / (altura ** 2)\n",
        "\n",
        "# Función lambda para determinar la categoría y recomendación\n",
        "categoria = lambda imc: (\n",
        "    (\"Bajo peso\", \"Aumentar la ingesta calórica y mejorar la nutrición.\") if imc < 18.5 else\n",
        "    (\"Normal\", \"Mantener un estilo de vida saludable.\") if imc < 25 else\n",
        "    (\"Sobrepeso\", \"Hacer más ejercicio y mejorar la alimentación.\") if imc < 30 else\n",
        "    (\"Obesidad\", \"Consultar a un profesional de salud para mejorar la condición.\")\n",
        ")\n",
        "\n",
        "# Solicitar datos al usuario\n",
        "nombre = input(\"Ingrese su nombre: \")\n",
        "peso = float(input(\"Ingrese su peso en kg: \"))\n",
        "altura = float(input(\"Ingrese su altura en metros: \"))\n",
        "\n",
        "# Cálculo del IMC\n",
        "valor_imc = imc(peso, altura)\n",
        "cat, recomendacion = categoria(valor_imc)\n",
        "\n",
        "# Mostrar resultados\n",
        "print(f\"\\n{nombre}, tu IMC es {valor_imc:.2f}\")\n",
        "print(f\"Categoría: {cat}\")\n",
        "print(f\"Recomendación: {recomendacion}\")"
      ],
      "metadata": {
        "colab": {
          "base_uri": "https://localhost:8080/"
        },
        "id": "yp28H9HhDqwn",
        "outputId": "010d7c7b-b166-45a3-a7ca-7287c14b67ad"
      },
      "execution_count": 19,
      "outputs": [
        {
          "output_type": "stream",
          "name": "stdout",
          "text": [
            "Ingrese su nombre: Alexis\n",
            "Ingrese su peso en kg: 60\n",
            "Ingrese su altura en metros: 1.70\n",
            "\n",
            "Alexis, tu IMC es 20.76\n",
            "Categoría: Normal\n",
            "Recomendación: Mantener un estilo de vida saludable.\n"
          ]
        }
      ]
    },
    {
      "cell_type": "code",
      "source": [
        "# =============================\n",
        "# Ejercicio 12: Operador entre dos números\n",
        "# =============================\n",
        "\n",
        "cal = lambda n1, operacion, n2: (\n",
        "    n1 + n2 if operacion == \"+\" else\n",
        "    n1 - n2 if operacion == \"-\" else\n",
        "    n1 * n2 if operacion == \"*\" else\n",
        "    (n1 / n2 if n2 != 0 else \"Error: División por cero\") if operacion == \"/\" else\n",
        "    \"Operador no válido\"\n",
        ")\n",
        "\n",
        "# Solicitar entrada al usuario\n",
        "num1 = float(input(\"Ingrese el primer número: \"))\n",
        "op = input(\"Ingrese la operación (+, -, *, /): \")\n",
        "num2 = float(input(\"Ingrese el segundo número: \"))\n",
        "\n",
        "# Imprimir el resultado\n",
        "resultado = cal(num1, op, num2)\n",
        "print(f\"\\nEl resultado de {num1} {op} {num2} es: {resultado}\")"
      ],
      "metadata": {
        "colab": {
          "base_uri": "https://localhost:8080/"
        },
        "id": "ixuDlFCAD41U",
        "outputId": "da3faac1-e51e-431d-a598-c81d94373964"
      },
      "execution_count": 20,
      "outputs": [
        {
          "output_type": "stream",
          "name": "stdout",
          "text": [
            "Ingrese el primer número: 2\n",
            "Ingrese la operación (+, -, *, /): +\n",
            "Ingrese el segundo número: 8\n",
            "\n",
            "El resultado de 2.0 + 8.0 es: 10.0\n"
          ]
        }
      ]
    },
    {
      "cell_type": "code",
      "source": [
        "# =============================\n",
        "# Ejercicio 13: Conversión de calificación numérica a letra\n",
        "# =============================\n",
        "\n",
        "calificacion = lambda nota: (\n",
        "    \"A\" if 90 <= nota <= 100 else\n",
        "    \"B\" if 80 <= nota < 90 else\n",
        "    \"C\" if 70 <= nota < 80 else\n",
        "    \"D\" if 60 <= nota < 70 else\n",
        "    \"F\" if 0 <= nota < 60 else\n",
        "    \"Error: Nota fuera del rango 0-100\"\n",
        ")\n",
        "\n",
        "# Solicitar entrada al usuario\n",
        "nota = float(input(\"Ingrese la calificación numérica (0-100): \"))\n",
        "\n",
        "# Mostrar el resultado\n",
        "print(f\"\\nLa calificación en letras es: {calificacion(nota)}\")"
      ],
      "metadata": {
        "colab": {
          "base_uri": "https://localhost:8080/"
        },
        "id": "jkODqK0_EBtD",
        "outputId": "2adb5efa-32ce-4c4e-bfc4-84380df1d633"
      },
      "execution_count": 21,
      "outputs": [
        {
          "output_type": "stream",
          "name": "stdout",
          "text": [
            "Ingrese la calificación numérica (0-100): 15\n",
            "\n",
            "La calificación en letras es: F\n"
          ]
        }
      ]
    },
    {
      "cell_type": "code",
      "source": [
        "# =============================\n",
        "# Ejercicio 14: Determinar el día de la semana\n",
        "# =============================\n",
        "\n",
        "dia_semana = lambda num: (\n",
        "    \"Lunes\" if num == 1 else\n",
        "    \"Martes\" if num == 2 else\n",
        "    \"Miércoles\" if num == 3 else\n",
        "    \"Jueves\" if num == 4 else\n",
        "    \"Viernes\" if num == 5 else\n",
        "    \"Sábado\" if num == 6 else\n",
        "    \"Domingo\" if num == 7 else\n",
        "    \"Error: Número fuera del rango 1-7\"\n",
        ")\n",
        "\n",
        "# Solicitar entrada al usuario\n",
        "numero = int(input(\"Ingrese un número (1-7) para obtener el día de la semana: \"))\n",
        "\n",
        "# Mostrar el resultado\n",
        "print(f\"\\nEl día de la semana correspondiente es: {dia_semana(numero)}\")"
      ],
      "metadata": {
        "colab": {
          "base_uri": "https://localhost:8080/"
        },
        "id": "E-E0vmAlEC-t",
        "outputId": "5f004980-193c-49c7-f928-a66ecaed9ec2"
      },
      "execution_count": 22,
      "outputs": [
        {
          "output_type": "stream",
          "name": "stdout",
          "text": [
            "Ingrese un número (1-7) para obtener el día de la semana: 5\n",
            "\n",
            "El día de la semana correspondiente es: Viernes\n"
          ]
        }
      ]
    },
    {
      "cell_type": "code",
      "source": [
        "# =============================\n",
        "# Ejercicio 15: Validar y clasificar un triángulo\n",
        "# =============================\n",
        "\n",
        "triangulo = lambda a, b, c: (\n",
        "    \"No es un triángulo\" if not (a + b > c and a + c > b and b + c > a) else\n",
        "    \"Triángulo equilátero\" if a == b == c else\n",
        "    \"Triángulo isósceles\" if a == b or a == c or b == c else\n",
        "    \"Triángulo escaleno\"\n",
        ")\n",
        "\n",
        "# Solicitar entrada al usuario\n",
        "lado1 = float(input(\"Ingrese la longitud del primer lado: \"))\n",
        "lado2 = float(input(\"Ingrese la longitud del segundo lado: \"))\n",
        "lado3 = float(input(\"Ingrese la longitud del tercer lado: \"))\n",
        "\n",
        "# Mostrar el resultado\n",
        "print(f\"\\nResultado: {triangulo(lado1, lado2, lado3)}\")"
      ],
      "metadata": {
        "colab": {
          "base_uri": "https://localhost:8080/"
        },
        "id": "yAuHKyUeEKT5",
        "outputId": "5c134fbf-3f95-4509-fffd-7dc3114a04d0"
      },
      "execution_count": 23,
      "outputs": [
        {
          "output_type": "stream",
          "name": "stdout",
          "text": [
            "Ingrese la longitud del primer lado: 15\n",
            "Ingrese la longitud del segundo lado: 23\n",
            "Ingrese la longitud del tercer lado: 66\n",
            "\n",
            "Resultado: No es un triángulo\n"
          ]
        }
      ]
    },
    {
      "cell_type": "code",
      "source": [
        "# =============================\n",
        "# Ejercicio 16: Tabla de multiplicar\n",
        "# =============================\n",
        "\n",
        "tabla_multiplicar = lambda n: [f\"{n} x {i} = {n * i}\" for i in range(1, 11)]\n",
        "\n",
        "# Solicitar entrada al usuario\n",
        "numero = int(input(\"Ingrese un número para ver su tabla de multiplicar: \"))\n",
        "\n",
        "# Mostrar el resultado\n",
        "print(f\"\\nTabla de multiplicar del {numero}:\")\n",
        "print(\"\\n\".join(tabla_multiplicar(numero)))"
      ],
      "metadata": {
        "colab": {
          "base_uri": "https://localhost:8080/"
        },
        "id": "hn5zjPr8EOw7",
        "outputId": "55e8d3a9-9a7c-40e9-fc80-5348edfd5cc1"
      },
      "execution_count": 24,
      "outputs": [
        {
          "output_type": "stream",
          "name": "stdout",
          "text": [
            "Ingrese un número para ver su tabla de multiplicar: 2\n",
            "\n",
            "Tabla de multiplicar del 2:\n",
            "2 x 1 = 2\n",
            "2 x 2 = 4\n",
            "2 x 3 = 6\n",
            "2 x 4 = 8\n",
            "2 x 5 = 10\n",
            "2 x 6 = 12\n",
            "2 x 7 = 14\n",
            "2 x 8 = 16\n",
            "2 x 9 = 18\n",
            "2 x 10 = 20\n"
          ]
        }
      ]
    },
    {
      "cell_type": "code",
      "source": [
        "# =============================\n",
        "# Ejercicio 17: Suma de dos números\n",
        "# =============================\n",
        "\n",
        "sumar = lambda a, b: a + b\n",
        "\n",
        "# Solicitar entrada al usuario\n",
        "num1 = float(input(\"Ingrese el primer número: \"))\n",
        "num2 = float(input(\"Ingrese el segundo número: \"))\n",
        "\n",
        "# Mostrar el resultado\n",
        "print(f\"\\nLa suma de {num1} y {num2} es: {sumar(num1, num2)}\")\n"
      ],
      "metadata": {
        "colab": {
          "base_uri": "https://localhost:8080/"
        },
        "id": "yWnO9ZGLEXfA",
        "outputId": "4df9e26c-ee46-4f46-97bf-4e290d38dd3e"
      },
      "execution_count": 25,
      "outputs": [
        {
          "output_type": "stream",
          "name": "stdout",
          "text": [
            "Ingrese el primer número: 2\n",
            "Ingrese el segundo número: 5\n",
            "\n",
            "La suma de 2.0 y 5.0 es: 7.0\n"
          ]
        }
      ]
    },
    {
      "cell_type": "code",
      "source": [
        "# =============================\n",
        "# Ejercicio 18: Factorial de un número\n",
        "# =============================\n",
        "from functools import reduce\n",
        "factorial = lambda n: reduce(lambda x, y: x * y, range(1, n + 1)) if n > 0 else 1\n",
        "print(\"\\nEjercicio 18: Factorial de un número\")\n",
        "print(\"El factorial de 5 es:\", factorial(5))"
      ],
      "metadata": {
        "colab": {
          "base_uri": "https://localhost:8080/"
        },
        "id": "o-si-_D1EbZo",
        "outputId": "c725250e-3a5e-4f2a-a5f7-48d4b49db41a"
      },
      "execution_count": 26,
      "outputs": [
        {
          "output_type": "stream",
          "name": "stdout",
          "text": [
            "\n",
            "Ejercicio 18: Factorial de un número\n",
            "El factorial de 5 es: 120\n"
          ]
        }
      ]
    }
  ]
}