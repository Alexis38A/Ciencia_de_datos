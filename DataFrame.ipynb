{
  "nbformat": 4,
  "nbformat_minor": 0,
  "metadata": {
    "colab": {
      "provenance": []
    },
    "kernelspec": {
      "name": "python3",
      "display_name": "Python 3"
    },
    "language_info": {
      "name": "python"
    }
  },
  "cells": [
    {
      "cell_type": "code",
      "source": [
        "# Importar librerías necesarias\n",
        "import numpy as np\n",
        "import pandas as pd\n"
      ],
      "metadata": {
        "collapsed": true,
        "id": "lGLSh0uX9HPX"
      },
      "execution_count": 82,
      "outputs": []
    },
    {
      "cell_type": "code",
      "source": [
        "# ===========================================\n",
        "# Crear una Serie de Pandas desde una lista\n",
        "# ===========================================\n",
        "\n",
        "ventas = pd.Series([22, 15, 70])\n",
        "print(\"Serie de ventas sin índice personalizado:\\n\", ventas)\n",
        "\n",
        "# Crear una Serie con índices personalizados\n",
        "ventas = pd.Series([22, 15, 70], index=[\"Enero\", \"Febrero\", \"Marzo\"])\n",
        "print(\"\\nSerie de ventas con nombres de meses:\\n\", ventas)\n",
        "\n",
        "# Acceder a elementos de la Serie\n",
        "print(\"\\nVentas del primer mes:\", ventas[0])  # Por índice numérico\n",
        "print(\"Ventas en Enero:\", ventas[\"Enero\"])  # Por nombre del índice\n",
        "\n",
        "# Tipo de datos de la Serie\n",
        "print(\"\\nTipo de datos de la Serie:\", ventas.dtype)\n",
        "\n",
        "# Índices y valores de la Serie\n",
        "print(\"\\nÍndices de la Serie:\", ventas.index)\n",
        "print(\"Valores de la Serie:\", ventas.values)\n",
        "\n",
        "# Asignar nombre a la Serie y a los índices\n",
        "ventas.name = \"Ventas 2025\"\n",
        "ventas.index.name = \"Meses\"\n",
        "print(\"\\nSerie con nombres asignados:\\n\", ventas)"
      ],
      "metadata": {
        "colab": {
          "base_uri": "https://localhost:8080/"
        },
        "id": "g28Zf7wP9PMD",
        "outputId": "f82a2907-da1f-46ec-9e4e-81d1b4e0e0da"
      },
      "execution_count": 83,
      "outputs": [
        {
          "output_type": "stream",
          "name": "stdout",
          "text": [
            "Serie de ventas sin índice personalizado:\n",
            " 0    22\n",
            "1    15\n",
            "2    70\n",
            "dtype: int64\n",
            "\n",
            "Serie de ventas con nombres de meses:\n",
            " Enero      22\n",
            "Febrero    15\n",
            "Marzo      70\n",
            "dtype: int64\n",
            "\n",
            "Ventas del primer mes: 22\n",
            "Ventas en Enero: 22\n",
            "\n",
            "Tipo de datos de la Serie: int64\n",
            "\n",
            "Índices de la Serie: Index(['Enero', 'Febrero', 'Marzo'], dtype='object')\n",
            "Valores de la Serie: [22 15 70]\n",
            "\n",
            "Serie con nombres asignados:\n",
            " Meses\n",
            "Enero      22\n",
            "Febrero    15\n",
            "Marzo      70\n",
            "Name: Ventas 2025, dtype: int64\n"
          ]
        },
        {
          "output_type": "stream",
          "name": "stderr",
          "text": [
            "<ipython-input-83-18832b3ffe52>:13: FutureWarning: Series.__getitem__ treating keys as positions is deprecated. In a future version, integer keys will always be treated as labels (consistent with DataFrame behavior). To access a value by position, use `ser.iloc[pos]`\n",
            "  print(\"\\nVentas del primer mes:\", ventas[0])  # Por índice numérico\n"
          ]
        }
      ]
    },
    {
      "cell_type": "code",
      "source": [
        "# ===========================================\n",
        "# Crear una Serie desde un diccionario\n",
        "# ===========================================\n",
        "\n",
        "diccionario = {\"Enero\": 22, \"Febrero\": 15, \"Marzo\": 70}\n",
        "ventas1 = pd.Series(diccionario)\n",
        "print(\"\\nSerie creada desde un diccionario:\\n\", ventas1)\n",
        "\n",
        "# Serie con índice extendido (incluyendo un mes que no está en el diccionario original)\n",
        "VentasMes = pd.Series(diccionario, index=[\"Enero\", \"Febrero\", \"Marzo\", \"Abril\"])\n",
        "print(\"\\nSerie con índice extendido:\\n\", VentasMes)"
      ],
      "metadata": {
        "colab": {
          "base_uri": "https://localhost:8080/"
        },
        "id": "hNdbe_H79UtR",
        "outputId": "27770827-a9ed-4440-cbd1-67dbe0a8897b"
      },
      "execution_count": 84,
      "outputs": [
        {
          "output_type": "stream",
          "name": "stdout",
          "text": [
            "\n",
            "Serie creada desde un diccionario:\n",
            " Enero      22\n",
            "Febrero    15\n",
            "Marzo      70\n",
            "dtype: int64\n",
            "\n",
            "Serie con índice extendido:\n",
            " Enero      22.0\n",
            "Febrero    15.0\n",
            "Marzo      70.0\n",
            "Abril       NaN\n",
            "dtype: float64\n"
          ]
        }
      ]
    },
    {
      "cell_type": "code",
      "source": [
        "# ===========================================\n",
        "# Crear un DataFrame con múltiples columnas\n",
        "# ===========================================\n",
        "\n",
        "medidas = pd.DataFrame({\n",
        "    \"Humedad\": [41, 20, 30, 80],\n",
        "    \"Salinidad\": [22, 15, 30, 80],\n",
        "    \"Sensórica\": [\"sí\", \"no\", \"no\", \"no\"],\n",
        "    \"Acidez\": [\"alta\", \"media\", \"baja\", \"baja\"],\n",
        "    \"PH\": [1, 7, 14, 13]\n",
        "}, index=[\"La ureña\", \"Paso chico\", \"La laguna\", \"Los teres\"])\n",
        "medidas.index.name = \"Veredas\"\n",
        "\n",
        "print(\"\\nDataFrame de medidas:\\n\", medidas)"
      ],
      "metadata": {
        "colab": {
          "base_uri": "https://localhost:8080/"
        },
        "id": "ZkW61ISz9WkY",
        "outputId": "ef3ea5b2-c980-4273-98fb-90a4ebd7b6fd"
      },
      "execution_count": 85,
      "outputs": [
        {
          "output_type": "stream",
          "name": "stdout",
          "text": [
            "\n",
            "DataFrame de medidas:\n",
            "             Humedad  Salinidad Sensórica Acidez  PH\n",
            "Veredas                                            \n",
            "La ureña         41         22        sí   alta   1\n",
            "Paso chico       20         15        no  media   7\n",
            "La laguna        30         30        no   baja  14\n",
            "Los teres        80         80        no   baja  13\n"
          ]
        }
      ]
    },
    {
      "cell_type": "code",
      "source": [
        "# Acceder a una columna específica\n",
        "print(\"\\nColumna 'Acidez':\\n\", medidas[\"Acidez\"])\n",
        "\n",
        "# Selección de múltiples columnas\n",
        "print(\"\\nSeleccionar columnas 'PH' y 'Acidez':\\n\", medidas[[\"PH\", \"Acidez\"]])\n",
        "\n",
        "# Información sobre dimensiones y nombres de filas y columnas\n",
        "print(\"\\nEjes del DataFrame:\\n\", medidas.axes)\n",
        "print(\"Dimensiones del DataFrame (filas, columnas):\", medidas.shape)"
      ],
      "metadata": {
        "colab": {
          "base_uri": "https://localhost:8080/"
        },
        "id": "XL3h416y9YJq",
        "outputId": "58569813-96fe-4b3d-cc03-3133fe961635"
      },
      "execution_count": 86,
      "outputs": [
        {
          "output_type": "stream",
          "name": "stdout",
          "text": [
            "\n",
            "Columna 'Acidez':\n",
            " Veredas\n",
            "La ureña       alta\n",
            "Paso chico    media\n",
            "La laguna      baja\n",
            "Los teres      baja\n",
            "Name: Acidez, dtype: object\n",
            "\n",
            "Seleccionar columnas 'PH' y 'Acidez':\n",
            "             PH Acidez\n",
            "Veredas              \n",
            "La ureña     1   alta\n",
            "Paso chico   7  media\n",
            "La laguna   14   baja\n",
            "Los teres   13   baja\n",
            "\n",
            "Ejes del DataFrame:\n",
            " [Index(['La ureña', 'Paso chico', 'La laguna', 'Los teres'], dtype='object', name='Veredas'), Index(['Humedad', 'Salinidad', 'Sensórica', 'Acidez', 'PH'], dtype='object')]\n",
            "Dimensiones del DataFrame (filas, columnas): (4, 5)\n"
          ]
        }
      ]
    },
    {
      "cell_type": "code",
      "source": [
        "# ===========================================\n",
        "# Crear otro DataFrame con datos de elementos químicos\n",
        "# ===========================================\n",
        "\n",
        "Elementos = pd.DataFrame({\n",
        "    \"Número atómico\": [1, 6, 46, 88],\n",
        "    \"Masa atómica\": [1, 12, 107, 226],\n",
        "    \"Familia\": [\"no metal\", \"no metal\", \"metal\", \"metal\"]\n",
        "}, index=[\"E1\", \"E2\", \"E3\", \"E4\"])\n",
        "\n",
        "print(\"\\nDataFrame de elementos químicos:\\n\", Elementos)"
      ],
      "metadata": {
        "colab": {
          "base_uri": "https://localhost:8080/"
        },
        "id": "iCDJeLM19aYO",
        "outputId": "a994cafb-7d65-4f06-9e4a-e63b5ee252f3"
      },
      "execution_count": 87,
      "outputs": [
        {
          "output_type": "stream",
          "name": "stdout",
          "text": [
            "\n",
            "DataFrame de elementos químicos:\n",
            "     Número atómico  Masa atómica   Familia\n",
            "E1               1             1  no metal\n",
            "E2               6            12  no metal\n",
            "E3              46           107     metal\n",
            "E4              88           226     metal\n"
          ]
        }
      ]
    },
    {
      "cell_type": "code",
      "source": [
        "# ===========================================\n",
        "# Crear un DataFrame con datos de medidas anuales\n",
        "# ===========================================\n",
        "\n",
        "MEDIDA = pd.DataFrame({\n",
        "    \"Ag\": [2, 4, 8, 5, 7, 9],\n",
        "    \"Au\": [5, 3, 2, 1, 0, 1],\n",
        "    \"Cu\": [3, 6, 15, 0, 3, 3],\n",
        "    \"Pt\": [2, 1, 0, 5, 2, 5]\n",
        "}, index=[\"2020\", \"2021\", \"2022\", \"2023\", \"2024\", \"2025\"])\n",
        "\n",
        "print(\"\\nDataFrame de medidas anuales:\\n\", MEDIDA)\n",
        "\n",
        "# Información general del DataFrame\n",
        "print(\"\\nDimensiones del DataFrame (filas, columnas):\", MEDIDA.shape)\n",
        "\n",
        "# Selección de columnas específicas\n",
        "print(\"\\nSeleccionar columnas 'Ag' y 'Pt':\\n\", MEDIDA[[\"Ag\", \"Pt\"]])\n",
        "\n",
        "# Obtener nombres de columnas\n",
        "print(\"\\nNombres de columnas del DataFrame:\", MEDIDA.columns)\n",
        "\n",
        "# Tipos de datos en cada columna\n",
        "print(\"\\nTipos de datos en el DataFrame:\\n\", MEDIDA.dtypes)\n"
      ],
      "metadata": {
        "colab": {
          "base_uri": "https://localhost:8080/"
        },
        "id": "SNb3l5jk9ciC",
        "outputId": "bc4a05d4-350a-4c1f-ae9a-eb52a556b060"
      },
      "execution_count": 88,
      "outputs": [
        {
          "output_type": "stream",
          "name": "stdout",
          "text": [
            "\n",
            "DataFrame de medidas anuales:\n",
            "       Ag  Au  Cu  Pt\n",
            "2020   2   5   3   2\n",
            "2021   4   3   6   1\n",
            "2022   8   2  15   0\n",
            "2023   5   1   0   5\n",
            "2024   7   0   3   2\n",
            "2025   9   1   3   5\n",
            "\n",
            "Dimensiones del DataFrame (filas, columnas): (6, 4)\n",
            "\n",
            "Seleccionar columnas 'Ag' y 'Pt':\n",
            "       Ag  Pt\n",
            "2020   2   2\n",
            "2021   4   1\n",
            "2022   8   0\n",
            "2023   5   5\n",
            "2024   7   2\n",
            "2025   9   5\n",
            "\n",
            "Nombres de columnas del DataFrame: Index(['Ag', 'Au', 'Cu', 'Pt'], dtype='object')\n",
            "\n",
            "Tipos de datos en el DataFrame:\n",
            " Ag    int64\n",
            "Au    int64\n",
            "Cu    int64\n",
            "Pt    int64\n",
            "dtype: object\n"
          ]
        }
      ]
    }
  ]
}